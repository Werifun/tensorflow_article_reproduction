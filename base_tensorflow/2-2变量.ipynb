{
 "cells": [
  {
   "cell_type": "code",
   "execution_count": 1,
   "metadata": {},
   "outputs": [],
   "source": [
    "import tensorflow as tf"
   ]
  },
  {
   "cell_type": "code",
   "execution_count": 3,
   "metadata": {},
   "outputs": [
    {
     "name": "stdout",
     "output_type": "stream",
     "text": [
      "[-2 -1]\n",
      "[-1  1]\n"
     ]
    }
   ],
   "source": [
    "x = tf.Variable([1,2])\n",
    "a = tf.constant([3,3])\n",
    "# 增加一个减法op\n",
    "sub = tf.subtract(x,a)\n",
    "# 增加一个加法op\n",
    "add = tf.add(x, sub)\n",
    "\n",
    "init = tf.global_variables_initializer()  # 全局变量初始化\n",
    "\n",
    "with tf.Session() as sess:\n",
    "    sess.run(init)\n",
    "    print(sess.run(sub))\n",
    "    print(sess.run(add))\n",
    "    "
   ]
  },
  {
   "cell_type": "code",
   "execution_count": 6,
   "metadata": {},
   "outputs": [
    {
     "name": "stdout",
     "output_type": "stream",
     "text": [
      "0\n",
      "update:  1\n",
      "state:  1\n",
      "update:  2\n",
      "state:  2\n",
      "update:  3\n",
      "state:  3\n",
      "update:  4\n",
      "state:  4\n",
      "update:  5\n",
      "state:  5\n",
      "update:  6\n",
      "state:  6\n"
     ]
    }
   ],
   "source": [
    "#  对变量进行循环\n",
    "# 创建一个变量初始化是0\n",
    "state = tf.Variable(0, name='counter')  # state的初始值是0\n",
    "# 创建一个op，作用是使state加1\n",
    "new_value = tf.add(state, 1)  \n",
    "# 赋值op\n",
    "update = tf.assign(state, new_value)  #  不能使用=赋值，因为这是tensorflow。update = state\n",
    "# 变量初始化\n",
    "init = tf.global_variables_initializer()\n",
    "\n",
    "with tf.Session() as sess:\n",
    "    sess.run(init)\n",
    "    print(sess.run(state))\n",
    "    for _ in range(6):\n",
    "        print('update: ',sess.run(update))\n",
    "        print('state: ',sess.run(state))\n"
   ]
  },
  {
   "cell_type": "code",
   "execution_count": null,
   "metadata": {},
   "outputs": [],
   "source": []
  }
 ],
 "metadata": {
  "kernelspec": {
   "display_name": "Python 3",
   "language": "python",
   "name": "python3"
  },
  "language_info": {
   "codemirror_mode": {
    "name": "ipython",
    "version": 3
   },
   "file_extension": ".py",
   "mimetype": "text/x-python",
   "name": "python",
   "nbconvert_exporter": "python",
   "pygments_lexer": "ipython3",
   "version": "3.7.1"
  }
 },
 "nbformat": 4,
 "nbformat_minor": 2
}
